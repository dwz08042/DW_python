import numpy as np
import pandas as pd
import requests
import re
from pandas import DataFrame
news = DataFrame()
for page in range(10):
    if page == 0:
        url = "https://www.hqu.edu.cn/hdxw.htm"
    else:
        url = "https://www.hqu.edu.cn/hdxw/"+str(167-page)+".htm"
    r = requests.get(url)
    r.encoding = "utf-8"
    matches = re.findall('<font color="">(.*?)</font></a></td><td align="center" width="14%" nowrap>(.*?)</td></tr></table></td>',r.text)
    matches = DataFrame(matches,columns=['title','time'])
    news = pd.concat([news,matches])
news
